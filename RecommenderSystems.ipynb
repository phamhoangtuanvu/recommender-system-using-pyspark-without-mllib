{
  "nbformat": 4,
  "nbformat_minor": 0,
  "metadata": {
    "colab": {
      "name": "Giữa kỳ.ipynb",
      "provenance": [],
      "collapsed_sections": []
    },
    "kernelspec": {
      "display_name": "Python 3",
      "name": "python3"
    },
    "language_info": {
      "name": "python"
    }
  },
  "cells": [
    {
      "cell_type": "code",
      "metadata": {
        "id": "mGXn3OXLtuRk",
        "colab": {
          "base_uri": "https://localhost:8080/"
        },
        "outputId": "204c8177-79e8-4fc1-89db-ccba345c3df1"
      },
      "source": [
        "!pip install pyspark"
      ],
      "execution_count": null,
      "outputs": [
        {
          "output_type": "stream",
          "name": "stdout",
          "text": [
            "Collecting pyspark\n",
            "  Downloading pyspark-3.2.0.tar.gz (281.3 MB)\n",
            "\u001b[K     |████████████████████████████████| 281.3 MB 32 kB/s \n",
            "\u001b[?25hCollecting py4j==0.10.9.2\n",
            "  Downloading py4j-0.10.9.2-py2.py3-none-any.whl (198 kB)\n",
            "\u001b[K     |████████████████████████████████| 198 kB 43.9 MB/s \n",
            "\u001b[?25hBuilding wheels for collected packages: pyspark\n",
            "  Building wheel for pyspark (setup.py) ... \u001b[?25l\u001b[?25hdone\n",
            "  Created wheel for pyspark: filename=pyspark-3.2.0-py2.py3-none-any.whl size=281805912 sha256=c8f310fa5142749f648b01a1bb005f34f1a2d1c54fd1327052991bf7708d17cb\n",
            "  Stored in directory: /root/.cache/pip/wheels/0b/de/d2/9be5d59d7331c6c2a7c1b6d1a4f463ce107332b1ecd4e80718\n",
            "Successfully built pyspark\n",
            "Installing collected packages: py4j, pyspark\n",
            "Successfully installed py4j-0.10.9.2 pyspark-3.2.0\n"
          ]
        }
      ]
    },
    {
      "cell_type": "code",
      "metadata": {
        "id": "-AaJJLXBFYAf"
      },
      "source": [
        "from pyspark.ml.evaluation import RegressionEvaluator\n",
        "from pyspark.ml.recommendation import ALS\n",
        "\n",
        "from pyspark.mllib.recommendation import ALS, MatrixFactorizationModel, Rating\n",
        "\n",
        "from pyspark import SparkContext,SparkConf\n",
        "from pyspark.sql import SQLContext, Row, SparkSession"
      ],
      "execution_count": null,
      "outputs": []
    },
    {
      "cell_type": "code",
      "metadata": {
        "id": "u2t5mddGGx7V",
        "colab": {
          "base_uri": "https://localhost:8080/"
        },
        "outputId": "bf275eb5-8843-4f75-cf3f-b659d67bf197"
      },
      "source": [
        "from google.colab import drive\n",
        "drive.mount('/content/drive')"
      ],
      "execution_count": null,
      "outputs": [
        {
          "output_type": "stream",
          "name": "stdout",
          "text": [
            "Mounted at /content/drive\n"
          ]
        }
      ]
    },
    {
      "cell_type": "code",
      "metadata": {
        "id": "DN_3dHtKFcb_"
      },
      "source": [
        "import os\n",
        "import math\n",
        "import time\n",
        "\n",
        "from itertools import combinations, product\n",
        "from scipy import spatial\n",
        "\n",
        "import heapq\n",
        "from operator import itemgetter"
      ],
      "execution_count": null,
      "outputs": []
    },
    {
      "cell_type": "code",
      "metadata": {
        "id": "1Lx7m5GbfQre",
        "colab": {
          "base_uri": "https://localhost:8080/"
        },
        "outputId": "48a8978d-5afa-43f7-e666-96fdd0dd6e30"
      },
      "source": [
        "# Getting the SparkContext\n",
        "conf = SparkConf().setMaster(\"local\").setAppName(\"count\")\n",
        "sc = SparkContext.getOrCreate(conf=conf)\n",
        "# Initializing the SQLContext\n",
        "sqlContext = SQLContext(sc)"
      ],
      "execution_count": null,
      "outputs": [
        {
          "output_type": "stream",
          "name": "stderr",
          "text": [
            "/usr/local/lib/python3.7/dist-packages/pyspark/sql/context.py:79: FutureWarning: Deprecated in 3.0.0. Use SparkSession.builder.getOrCreate() instead.\n",
            "  FutureWarning\n"
          ]
        }
      ]
    },
    {
      "cell_type": "markdown",
      "metadata": {
        "id": "1F6EKF4cDIBX"
      },
      "source": [
        "MLLIB"
      ]
    },
    {
      "cell_type": "code",
      "metadata": {
        "id": "jSQF_GTZeh3k"
      },
      "source": [
        "# Load and parse the data rating\n",
        "ratings_data = sc.textFile(\"drive/My Drive/Colab Notebooks/ratings.csv\")\n",
        "column_name = 'userId,movieId,rating,timestamp' # data.take(1)[0]\n",
        "ratings = ratings_data\\\n",
        "    .filter(lambda l: l != column_name)\\\n",
        "    .map(lambda l: l.split(','))\\\n",
        "    .map(lambda l: Rating(int(l[0]), int(l[1]), float(l[2])))"
      ],
      "execution_count": null,
      "outputs": []
    },
    {
      "cell_type": "code",
      "metadata": {
        "colab": {
          "base_uri": "https://localhost:8080/"
        },
        "id": "5m0SjePSCUaO",
        "outputId": "5fd7cbdd-ec1a-4bb8-ca71-25d06b7e0aa2"
      },
      "source": [
        "# Load and parse the data movie\n",
        "movies_data = sc.textFile(\"drive/My Drive/Colab Notebooks/movies.csv\")\n",
        "column_name = 'movieId,title,genres'\n",
        "movies = movies_data\\\n",
        "    .filter(lambda l: l != column_name)\\\n",
        "    .map(lambda l: l.split(','))\\\n",
        "    .map(lambda l: Row(int(l[0]), l[1] ))\n",
        "movies.take(1)"
      ],
      "execution_count": null,
      "outputs": [
        {
          "data": {
            "text/plain": [
              "[<Row(1, 'Toy Story (1995)')>]"
            ]
          },
          "execution_count": 111,
          "metadata": {},
          "output_type": "execute_result"
        }
      ]
    },
    {
      "cell_type": "code",
      "metadata": {
        "colab": {
          "base_uri": "https://localhost:8080/"
        },
        "id": "UaQJNm__jA23",
        "outputId": "a503853b-6143-485e-ead2-de73b1df0d34"
      },
      "source": [
        "# Build the recommendation model using Alternating Least Squares\n",
        "regularization_parameter = 0.2\n",
        "rank = 12\n",
        "numIterations = 10\n",
        "import math\n",
        "model = ALS.train(ratings, rank, numIterations,lambda_= regularization_parameter)\n",
        "# Evaluate the model on training data\n",
        "testdata = ratings.map(lambda p: (p[0], p[1]))\n",
        "predictions = model.predictAll(testdata).map(lambda r: ((r[0], r[1]), r[2]))\n",
        "ratesAndPreds = ratings.map(lambda r: ((r[0], r[1]), r[2])).join(predictions)\n",
        "MSE = math.sqrt(ratesAndPreds.map(lambda r: (r[1][0] - r[1][1])**2).mean())\n",
        "print(\"Mean Squared Error = \" + str(MSE))\n"
      ],
      "execution_count": null,
      "outputs": [
        {
          "name": "stdout",
          "output_type": "stream",
          "text": [
            "Mean Squared Error = 0.7287543924410153\n"
          ]
        }
      ]
    },
    {
      "cell_type": "code",
      "metadata": {
        "id": "JZrYxu9HcDFU"
      },
      "source": [
        "user_id_list = [281,598]\n",
        "movie_id_list = [4256,8477]\n",
        "#user_product = sc.parallelize([(281,4256)])"
      ],
      "execution_count": null,
      "outputs": []
    },
    {
      "cell_type": "code",
      "metadata": {
        "colab": {
          "base_uri": "https://localhost:8080/"
        },
        "id": "KCmc3Zx3HrQB",
        "outputId": "b2583443-89be-4457-a726-3209b1cd8fee"
      },
      "source": [
        "num_movie = 5\n",
        "for user_id in user_id_list:\n",
        "  recommendProducts_list = model.recommendProducts(user_id,num_movie)\n",
        "  #print(recommendProducts_list)\n",
        "  recommendProducts_list_rdd = sc.parallelize(recommendProducts_list)\n",
        "  rdd1 = recommendProducts_list_rdd.map(lambda x: (x.product, x.rating))\n",
        "  rdd2 = rdd1.join(movies).map(lambda x: (x[1][1],x[1][0]) )\n",
        "  movie_title_list = rdd2.takeOrdered(10, key=lambda x: -x[1])\n",
        "  print('*** Top', num_movie ,'movies recommended for user', user_id)\n",
        "  print('\\n'.join(map(str, movie_title_list)),'\\n') "
      ],
      "execution_count": null,
      "outputs": [
        {
          "name": "stdout",
          "output_type": "stream",
          "text": [
            "*** Top 5 movies recommended for user 281\n",
            "('Deathgasm (2015)', 4.748158338424845)\n",
            "('On the Beach (1959)', 4.742774804526217)\n",
            "('\"Visitor', 4.531555542758792)\n",
            "('Frozen River (2008)', 4.531555542758792)\n",
            "('Saving Face (2004)', 4.517761678593577) \n",
            "\n",
            "*** Top 5 movies recommended for user 598\n",
            "('Laggies (2014)', 4.805124957088624)\n",
            "('\"One I Love', 4.805124957088624)\n",
            "('Delirium (2014)', 4.805124957088624)\n",
            "('Deathgasm (2015)', 4.79279339341286)\n",
            "('Submarine (2010)', 4.662456699686286) \n",
            "\n"
          ]
        }
      ]
    },
    {
      "cell_type": "code",
      "metadata": {
        "colab": {
          "base_uri": "https://localhost:8080/"
        },
        "id": "SN1DhJIPDkS5",
        "outputId": "f7454e75-9a0c-43de-e9fc-a294c448729d"
      },
      "source": [
        "num_user = 5\n",
        "for movie_id in movie_id_list:\n",
        "  recommendUsers_list = model.recommendUsers(movie_id,num_user)\n",
        "  #print(recommendUsers_list)\n",
        "\n",
        "  recommendUsers_rdd = sc.parallelize(recommendUsers_list)\n",
        "  rdd1 = recommendUsers_rdd.map(lambda x: (x.user, x.rating))\n",
        "  movie_title = movies.filter(lambda x: x[0] == movie_id).map(lambda x: (x[1],x[0])).take(1)\n",
        "  user_rating_list = rdd1.takeOrdered(10, key=lambda x: -x[1])\n",
        "  print('*** Top', num_user ,'users recommended for', movie_title[0])\n",
        "  print('\\n'.join(map(str, user_rating_list)),'\\n') "
      ],
      "execution_count": null,
      "outputs": [
        {
          "name": "stdout",
          "output_type": "stream",
          "text": [
            "*** Top 5 users recommended for ('\"Center of the World', 4256)\n",
            "(53, 5.148090641540924)\n",
            "(276, 4.711323432972797)\n",
            "(543, 4.666315658174415)\n",
            "(452, 4.659140755200704)\n",
            "(243, 4.592424716358524) \n",
            "\n",
            "*** Top 5 users recommended for ('\"Jetée', 8477)\n",
            "(154, 5.891444895624094)\n",
            "(53, 5.757045905836879)\n",
            "(515, 5.6852908025630695)\n",
            "(122, 5.635075232559433)\n",
            "(171, 5.5920195148489515) \n",
            "\n"
          ]
        }
      ]
    },
    {
      "cell_type": "markdown",
      "metadata": {
        "id": "7vl_8AeBGHwR"
      },
      "source": [
        "## CF"
      ]
    },
    {
      "cell_type": "code",
      "metadata": {
        "id": "99biaqUY5Cmu"
      },
      "source": [
        "# Load and parse the data rating\n",
        "test_data = sc.textFile(\"drive/My Drive/Colab Notebooks/cf_test.csv\")\n",
        "#test_data.take(1)\n",
        "ratings = test_data\\\n",
        "    .map(lambda l: l.split(','))\\\n",
        "    .map(lambda l: Row(U=int(l[0]),I=int(l[1]),R=float(l[2])))"
      ],
      "execution_count": null,
      "outputs": []
    },
    {
      "cell_type": "markdown",
      "metadata": {
        "id": "0e5mYS8QARMW"
      },
      "source": [
        "Chuẩn hóa"
      ]
    },
    {
      "cell_type": "code",
      "metadata": {
        "id": "42QU_OvrGPCG"
      },
      "source": [
        "def normalized(ratings,user_set,item_set):  \n",
        "  start_time = time.time()\n",
        "  ## Tính mean\n",
        "  # user_mean_rdd có dạng (u,mean) \n",
        "  user_mean_rdd = ratings.map(lambda x: (x[0],(x[2],1))).reduceByKey(lambda a,b: (a[0]+b[0],a[1]+b[1])).map(lambda x: (x[0],x[1][0]/x[1][1]) )\n",
        "\n",
        "\n",
        "  #Lấy mỗi rating trừ đi mean\n",
        "  ratings_rdd =  ratings.map(lambda x: (x[0],(x[1],x[2]))) # (u,(i,r))\n",
        "  temp = ratings_rdd.join(user_mean_rdd) # join với mean\n",
        "  rated_normalized_rdd = temp.mapValues(lambda x: (x[0][0],x[0][1]-x[1])).map(lambda x: ((x[0],x[1][0]),x[1][1]))\n",
        "\n",
        "  #tìm những cặp chưa đánh giá\n",
        "  a = list(product(user_set,item_set))\n",
        "  rated_rdd = ratings.map(lambda x: (x[0],x[1]))\n",
        "  c = set(a)-set(rated_rdd.collect())\n",
        "  unrated_rdd = sc.parallelize(c)\n",
        "\n",
        "  normalized_rdd = unrated_rdd.map(lambda x: (x,0)) + rated_normalized_rdd\n",
        "\n",
        "  #\n",
        "  x = normalized_rdd.map(lambda x: (x[0][0],x[1]))\n",
        "  normalized_list = x.groupByKey().mapValues(list).map(lambda x: (x[0],set(x[1]),len(x[1]))) #(u,set,lenlist)\n",
        "  print(\"--- %s seconds ---\" % (time.time() - start_time))\n",
        "\n",
        "  return user_mean_rdd,normalized_rdd,unrated_rdd,normalized_list"
      ],
      "execution_count": 285,
      "outputs": []
    },
    {
      "cell_type": "markdown",
      "metadata": {
        "id": "BvucgHXvCx-2"
      },
      "source": [
        "Similarity"
      ]
    },
    {
      "cell_type": "code",
      "metadata": {
        "id": "RtLWHOJHRk45"
      },
      "source": [
        "def similarity(user_set,normalized_list):\n",
        "  start_time = time.time()\n",
        "\n",
        "  #hàm tính độ similarity jaccard\n",
        "\n",
        "  def jaccard(set1,len1,set2,len2):\n",
        "      intersection = len(list(set1.intersection(set2)))\n",
        "      union = (len1 + len2) - intersection\n",
        "      return float(intersection) / union \n",
        "\n",
        "  combinations_rdd = normalized_list.cartesian(normalized_list)#.filter(lambda x: x[0][0]<x[1][0])\n",
        "\n",
        "  #tính bảng similarity\n",
        "  similarity_list = combinations_rdd.map(lambda x: ((x[0][0],x[1][0]),jaccard(x[0][1],x[0][2],x[1][1],x[1][2])))#.sortBy(lambda x:x[0]).collect()\n",
        "\n",
        "  print(\"--- %s seconds ---\" % (time.time() - start_time))\n",
        "\n",
        "  return similarity_list"
      ],
      "execution_count": 286,
      "outputs": []
    },
    {
      "cell_type": "markdown",
      "metadata": {
        "id": "ZnMWCcjQldD5"
      },
      "source": [
        "Predict"
      ]
    },
    {
      "cell_type": "code",
      "metadata": {
        "id": "2Xp600Hsqwhg"
      },
      "source": [
        "def pred(uid,unrated_rdd,normalized_rdd,similarity_list,user_mean_rdd):\n",
        "  start_time = time.time()\n",
        "  #predict\n",
        "\n",
        "  def predict(sim,nor):\n",
        "    r =0\n",
        "    s = sim\n",
        "    n =nor\n",
        "    if len(sim) == 2:\n",
        "      r = (s[0]*n[0]+s[1]*n[1])/(abs(s[0])+abs(s[1]))\n",
        "    if len(sim) == 1:\n",
        "      r = (s[0]*n[0])/(abs(s[0]))\n",
        "    return r  \n",
        "    \n",
        "  def find_sim(user_list,sim_list):\n",
        "    s = list()\n",
        "    for user in user_list:\n",
        "      s.append(sim_list[user-1]) \n",
        "    s1= s.copy()\n",
        "    s1.sort(reverse=True)\n",
        "    m = s1[:2]\n",
        "    q = list()\n",
        "    for i in m:\n",
        "      q.append(user_list[s.index(i)])\n",
        "    return q,m\n",
        "\n",
        "  def find_nor(user_list,nor_list):\n",
        "    s = list()\n",
        "    for user in user_list:\n",
        "      s.append(nor_list[user-1]) \n",
        "    return s\n",
        "\n",
        "  # gom các user đã đánh giá một item\n",
        "  item_list_user = ratings.map(lambda x: (x[1],x[0])).groupByKey().mapValues(list)\n",
        "  k =2\n",
        "  #Bước 1: Tìm tất cả user đã rating item đó\n",
        "  user_unrate = unrated_rdd.filter(lambda x: x[0]==uid).map(lambda x: (x[1],x[0])).join(item_list_user)\\\n",
        "                .map(lambda x: (x[1][0],x[0],x[1][1]))\n",
        "  \n",
        "  nor = normalized_rdd.map(lambda x: ((x[0][1],x[0][0]),x[1])).sortByKey().map(lambda x: (x[0][0],x[1])).groupByKey().mapValues(list)\n",
        "  #chuyển sang hệ số similarity\n",
        "  sim = similarity_list.map(lambda x: (x[0][0],x[1])).groupByKey().mapValues(list).filter(lambda x: x[0]==uid).values().first()\n",
        "\n",
        "  pre = user_unrate.map(lambda x: (x[1],(x[0],find_sim(x[2],sim))) )\\\n",
        "        .join(nor).mapValues(lambda x: (x[0][0],x[0][1][1],find_nor(x[0][1][0],x[1])))\\\n",
        "        .map(lambda x: ((x[1][0],x[0]),predict(x[1][1],x[1][2])) ) \n",
        "\n",
        "  mean = user_mean_rdd.filter(lambda x: x[0]== uid).values().first()\n",
        "  result = pre.mapValues(lambda x: x+mean)\n",
        "\n",
        "  print(\"--- %s seconds ---\" % (time.time() - start_time))\n",
        "  return result"
      ],
      "execution_count": 291,
      "outputs": []
    },
    {
      "cell_type": "code",
      "metadata": {
        "id": "egobl6054Mbh"
      },
      "source": [
        "# Load and parse the data rating\n",
        "ratings_data = sc.textFile(\"drive/My Drive/Colab Notebooks/ratings.csv\")\n",
        "column_name = 'userId,movieId,rating,timestamp' # data.take(1)[0]\n",
        "ratings = ratings_data\\\n",
        "    .filter(lambda l: l != column_name)\\\n",
        "    .map(lambda l: l.split(','))\\\n",
        "    .map(lambda l: Rating(int(l[0]), int(l[1]), float(l[2])))\n",
        "\n",
        "#Tính tập user và tập item\n",
        "user_set = set(ratings.keys().collect())\n",
        "item_set = set(ratings.values().collect())"
      ],
      "execution_count": 292,
      "outputs": []
    },
    {
      "cell_type": "code",
      "metadata": {
        "id": "veVMhnnJwg-e",
        "colab": {
          "base_uri": "https://localhost:8080/"
        },
        "outputId": "87995959-770c-4e59-f2ea-8c8dacc3749b"
      },
      "source": [
        "#def main(ratings,movies):\n",
        "user_mean_rdd,normalized_rdd,unrated_rdd,normalized_list = normalized(ratings,user_set,item_set)\n",
        "similarity_list = similarity(user_set,normalized_list)\n",
        "uid = 3\n",
        "pre = pred(uid,unrated_rdd,normalized_rdd,similarity_list,user_mean_rdd)\n"
      ],
      "execution_count": 293,
      "outputs": [
        {
          "output_type": "stream",
          "name": "stdout",
          "text": [
            "--- 12.072497844696045 seconds ---\n",
            "--- 0.012032747268676758 seconds ---\n",
            "--- 51.343868017196655 seconds ---\n"
          ]
        }
      ]
    },
    {
      "cell_type": "code",
      "metadata": {
        "id": "11ES0gkg096E",
        "colab": {
          "base_uri": "https://localhost:8080/"
        },
        "outputId": "6b95e2a8-81ac-47d4-9a89-c34af8ab85a7"
      },
      "source": [
        "# Load and parse the data movie\n",
        "movies_data = sc.textFile(\"drive/My Drive/Colab Notebooks/movies.csv\")\n",
        "column_name = 'movieId,title,genres'\n",
        "movies = movies_data\\\n",
        "    .filter(lambda l: l != column_name)\\\n",
        "    .map(lambda l: l.split(','))\\\n",
        "    .map(lambda l: Row(int(float(l[0])), l[1] ))\n",
        "\n",
        "num_movie = 5\n",
        "#for user_id in user_id_list:\n",
        "rdd1 = pre.map(lambda x: (x[0][1], x[1]))\n",
        "rdd2 = rdd1.join(movies).map(lambda x: (x[1][1],x[1][0]) )\n",
        "movie_title_list = rdd2.takeOrdered(num_movie, key=lambda x: -x[1])\n",
        "print('*** Top', num_movie ,'movies recommended for user', uid)\n",
        "print('\\n'.join(map(str, movie_title_list)),'\\n') "
      ],
      "execution_count": 294,
      "outputs": [
        {
          "output_type": "stream",
          "name": "stdout",
          "text": [
            "*** Top 5 movies recommended for user 3\n",
            "('\"Match Factory Girl', 5.19044289044289)\n",
            "('\"Jetée', 5.19044289044289)\n",
            "('Midnight Cowboy (1969)', 4.864468864468865)\n",
            "('\"Muppet Movie', 4.8285005653426705)\n",
            "('\"Life Less Ordinary', 4.8285005653426705) \n",
            "\n"
          ]
        }
      ]
    }
  ]
}